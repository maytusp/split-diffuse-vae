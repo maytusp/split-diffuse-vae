{
 "cells": [
  {
   "cell_type": "code",
   "execution_count": 4,
   "metadata": {},
   "outputs": [],
   "source": [
    "import click\n",
    "import os\n",
    "import numpy as np\n",
    "import torch\n",
    "from torch.utils.data import DataLoader\n",
    "\n",
    "from tqdm import tqdm\n",
    "from util import configure_device, get_dataset\n",
    "from models.split_vae import VAE\n",
    "import matplotlib\n",
    "from sklearn.manifold import TSNE\n",
    "import matplotlib.pyplot as plt\n",
    "import seaborn as sns\n",
    "\n",
    "@click.group()\n",
    "def cli():\n",
    "    pass\n",
    "\n",
    "def extract(\n",
    "    orig_img_id = \"00084\",\n",
    "    root=None,\n",
    "    vae_chkpt_path=\"/home/bias-team/Mo_Projects/DiffuseVAE/logs/vae_carla_day/checkpoints/vae-carla_day-epoch=1499-train_loss=0.0000.ckpt\",\n",
    "    device=\"gpu:0\",\n",
    "    dataset_name=\"carla\",\n",
    "    image_size=128,\n",
    "    save_path=os.getcwd(),\n",
    "):\n",
    "    # dev, _ = configure_device(device)\n",
    "    dev = 'cuda'\n",
    "    root = os.path.join(root, orig_img_id)\n",
    "    # Dataset\n",
    "    dataset = get_dataset(dataset_name, root, image_size, norm=False, flip=False)\n",
    "\n",
    "    # Loader\n",
    "    loader = DataLoader(\n",
    "        dataset,\n",
    "        1,\n",
    "        num_workers=1,\n",
    "        pin_memory=True,\n",
    "        shuffle=False,\n",
    "        drop_last=False,\n",
    "    )\n",
    "\n",
    "    # Load VAE\n",
    "    vae = VAE.load_from_checkpoint(vae_chkpt_path, input_res=image_size).to(dev)\n",
    "    vae.eval()\n",
    "\n",
    "    z_list = []\n",
    "    for _, batch in tqdm(enumerate(loader)):\n",
    "        batch = batch.to(dev)\n",
    "        with torch.no_grad():\n",
    "\n",
    "            batch_aux, _ = vae.scramble(batch)\n",
    "            mu, logvar = vae.encode(batch)\n",
    "            mu_aux, logvar_aux = vae.encode_aux(batch_aux)\n",
    "\n",
    "            z_main = vae.reparameterize(mu, logvar)\n",
    "            z_aux = vae.reparameterize(mu_aux, logvar_aux)\n",
    "\n",
    "            # z_main = torch.cat((mu,mu_aux), dim=1)\n",
    "            # z_main = mu_aux\n",
    "            z_main = mu\n",
    "        # Not transferring to CPU leads to memory overflow in GPU!\n",
    "        z_list.append(z_main.cpu().detach().numpy())\n",
    "    z_arr = np.array(z_list)\n",
    "    image_labels = len(z_list)*[orig_img_id]\n",
    "    np.save(os.path.join(root, f\"{orig_img_id}_split.npy\"), z_arr)\n",
    "    return z_arr, image_labels\n",
    "\n",
    "\n",
    "def get_latent(data_path, vae_chkpt_path):\n",
    "    img_id_list = os.listdir(data_path)\n",
    "\n",
    "    for i, img_id in enumerate(img_id_list):\n",
    "        z, image_labels = extract(orig_img_id=img_id, root=data_path, vae_chkpt_path=vae_chkpt_path)\n",
    "        z = np.squeeze(z)\n",
    "        if len(z.shape) == 1:\n",
    "            z = np.expand_dims(z, axis=0)        \n",
    "        if i == 0:\n",
    "            z_total = z\n",
    "            image_labels_total = image_labels\n",
    "        else:\n",
    "            z_total = np.concatenate((z_total, z), axis=0)\n",
    "            image_labels_total += image_labels\n",
    "    labels, colors = get_class_map(image_labels_total, img_id_list)\n",
    "    return z_total, labels\n",
    "\n",
    "def get_class_map(image_labels_total, img_id_list):\n",
    "    # Create Mapping function from img_id to class 0,1,2,3,...\n",
    "    img_class_map = {}\n",
    "    colors = []\n",
    "    labels = []\n",
    "    for i, img_id in enumerate(img_id_list):\n",
    "        img_class_map[img_id] = i\n",
    "        colors.append(i)\n",
    "\n",
    "    for i in image_labels_total:\n",
    "        temp = img_class_map[i]\n",
    "        labels.append(temp)\n",
    "    labels = np.array(labels)\n",
    "    return labels, colors\n",
    "\n",
    "\n",
    "\n",
    "        "
   ]
  },
  {
   "cell_type": "code",
   "execution_count": 5,
   "metadata": {},
   "outputs": [
    {
     "name": "stderr",
     "output_type": "stream",
     "text": [
      "1it [00:00, 17.72it/s]\n",
      "1it [00:00, 18.40it/s]\n",
      "1it [00:00, 18.86it/s]\n",
      "1it [00:00, 19.21it/s]\n",
      "1it [00:00, 20.18it/s]\n",
      "1it [00:00, 20.35it/s]\n",
      "1it [00:00, 20.14it/s]\n",
      "1it [00:00, 21.01it/s]\n",
      "1it [00:00, 20.48it/s]\n",
      "1it [00:00, 18.70it/s]\n",
      "10it [00:00, 75.28it/s]\n",
      "10it [00:00, 75.31it/s]\n",
      "10it [00:00, 75.53it/s]\n",
      "10it [00:00, 61.90it/s]\n",
      "10it [00:00, 73.32it/s]\n",
      "10it [00:00, 71.63it/s]\n",
      "10it [00:00, 68.70it/s]\n",
      "10it [00:00, 72.31it/s]\n",
      "10it [00:00, 59.88it/s]\n",
      "10it [00:00, 67.55it/s]\n"
     ]
    },
    {
     "name": "stdout",
     "output_type": "stream",
     "text": [
      "test_flare2 seed 1\n",
      "train: 1.0\n",
      "test: 0.69\n"
     ]
    },
    {
     "name": "stderr",
     "output_type": "stream",
     "text": [
      "1it [00:00, 12.90it/s]\n",
      "1it [00:00, 15.75it/s]\n",
      "1it [00:00, 17.70it/s]\n",
      "1it [00:00, 19.01it/s]\n",
      "1it [00:00, 20.30it/s]\n",
      "1it [00:00, 20.00it/s]\n",
      "1it [00:00, 16.68it/s]\n",
      "1it [00:00, 19.50it/s]\n",
      "1it [00:00, 19.94it/s]\n",
      "1it [00:00, 19.22it/s]\n",
      "10it [00:00, 72.41it/s]\n",
      "10it [00:00, 70.36it/s]\n",
      "10it [00:00, 70.05it/s]\n",
      "10it [00:00, 70.89it/s]\n",
      "10it [00:00, 73.68it/s]\n",
      "10it [00:00, 67.38it/s]\n",
      "10it [00:00, 67.14it/s]\n",
      "10it [00:00, 69.95it/s]\n",
      "10it [00:00, 71.80it/s]\n",
      "10it [00:00, 69.28it/s]\n"
     ]
    },
    {
     "name": "stdout",
     "output_type": "stream",
     "text": [
      "test_flare2 seed 2\n",
      "train: 1.0\n",
      "test: 0.76\n"
     ]
    },
    {
     "name": "stderr",
     "output_type": "stream",
     "text": [
      "1it [00:00, 16.13it/s]\n",
      "1it [00:00, 19.74it/s]\n",
      "1it [00:00, 18.86it/s]\n",
      "1it [00:00, 18.50it/s]\n",
      "1it [00:00, 12.22it/s]\n",
      "1it [00:00, 16.86it/s]\n",
      "1it [00:00, 16.27it/s]\n",
      "1it [00:00, 16.99it/s]\n",
      "1it [00:00, 17.37it/s]\n",
      "1it [00:00, 17.36it/s]\n",
      "10it [00:00, 60.99it/s]\n",
      "10it [00:00, 72.43it/s]\n",
      "10it [00:00, 73.90it/s]\n",
      "10it [00:00, 66.55it/s]\n",
      "10it [00:00, 66.29it/s]\n",
      "10it [00:00, 63.31it/s]\n",
      "10it [00:00, 64.94it/s]\n",
      "10it [00:00, 68.66it/s]\n",
      "10it [00:00, 67.87it/s]\n",
      "10it [00:00, 67.99it/s]\n"
     ]
    },
    {
     "name": "stdout",
     "output_type": "stream",
     "text": [
      "test_flare2 seed 3\n",
      "train: 1.0\n",
      "test: 0.52\n"
     ]
    },
    {
     "name": "stderr",
     "output_type": "stream",
     "text": [
      "1it [00:00, 17.56it/s]\n",
      "1it [00:00, 18.43it/s]\n",
      "1it [00:00, 19.94it/s]\n",
      "1it [00:00, 19.45it/s]\n",
      "1it [00:00, 17.91it/s]\n",
      "1it [00:00, 15.68it/s]\n",
      "1it [00:00, 16.12it/s]\n",
      "1it [00:00, 13.47it/s]\n",
      "1it [00:00, 16.78it/s]\n",
      "1it [00:00, 18.09it/s]\n",
      "10it [00:00, 63.63it/s]\n",
      "10it [00:00, 70.34it/s]\n",
      "10it [00:00, 66.83it/s]\n",
      "10it [00:00, 66.43it/s]\n",
      "10it [00:00, 60.69it/s]\n",
      "10it [00:00, 62.75it/s]\n",
      "10it [00:00, 59.04it/s]\n",
      "10it [00:00, 67.87it/s]\n",
      "10it [00:00, 66.96it/s]\n",
      "10it [00:00, 59.51it/s]\n"
     ]
    },
    {
     "name": "stdout",
     "output_type": "stream",
     "text": [
      "test_flare2 seed 4\n",
      "train: 1.0\n",
      "test: 0.47\n"
     ]
    },
    {
     "name": "stderr",
     "output_type": "stream",
     "text": [
      "1it [00:00, 16.60it/s]\n",
      "1it [00:00, 15.33it/s]\n",
      "1it [00:00, 11.28it/s]\n",
      "1it [00:00, 16.92it/s]\n",
      "1it [00:00, 15.22it/s]\n",
      "1it [00:00, 16.81it/s]\n",
      "1it [00:00, 16.68it/s]\n",
      "1it [00:00, 19.09it/s]\n",
      "1it [00:00, 17.79it/s]\n",
      "1it [00:00, 18.45it/s]\n",
      "10it [00:00, 57.16it/s]\n",
      "10it [00:00, 56.06it/s]\n",
      "10it [00:00, 69.74it/s]\n",
      "10it [00:00, 60.96it/s]\n",
      "10it [00:00, 53.02it/s]\n",
      "10it [00:00, 60.31it/s]\n",
      "10it [00:00, 63.38it/s]\n",
      "10it [00:00, 63.09it/s]\n",
      "10it [00:00, 58.60it/s]\n",
      "10it [00:00, 53.56it/s]\n"
     ]
    },
    {
     "name": "stdout",
     "output_type": "stream",
     "text": [
      "test_flare2 seed 5\n",
      "train: 1.0\n",
      "test: 0.71\n"
     ]
    },
    {
     "name": "stderr",
     "output_type": "stream",
     "text": [
      "1it [00:00, 13.74it/s]\n",
      "1it [00:00, 14.32it/s]\n",
      "1it [00:00, 14.42it/s]\n",
      "1it [00:00, 10.18it/s]\n",
      "1it [00:00, 18.87it/s]\n",
      "1it [00:00, 11.42it/s]\n",
      "1it [00:00, 13.09it/s]\n",
      "1it [00:00, 16.34it/s]\n",
      "1it [00:00, 12.80it/s]\n",
      "1it [00:00, 16.75it/s]\n",
      "10it [00:00, 53.13it/s]\n",
      "10it [00:00, 54.29it/s]\n",
      "10it [00:00, 58.38it/s]\n",
      "10it [00:00, 58.07it/s]\n",
      "10it [00:00, 59.77it/s]\n",
      "10it [00:00, 66.81it/s]\n",
      "10it [00:00, 57.23it/s]\n",
      "10it [00:00, 52.34it/s]\n",
      "10it [00:00, 58.14it/s]\n",
      "10it [00:00, 62.10it/s]\n"
     ]
    },
    {
     "name": "stdout",
     "output_type": "stream",
     "text": [
      "test_flare2 seed 6\n",
      "train: 1.0\n",
      "test: 0.59\n"
     ]
    },
    {
     "name": "stderr",
     "output_type": "stream",
     "text": [
      "1it [00:00, 18.37it/s]\n",
      "1it [00:00, 18.06it/s]\n",
      "1it [00:00, 17.11it/s]\n",
      "1it [00:00, 16.44it/s]\n",
      "1it [00:00, 15.05it/s]\n",
      "1it [00:00, 13.83it/s]\n",
      "1it [00:00, 15.37it/s]\n",
      "1it [00:00, 11.69it/s]\n",
      "1it [00:00, 12.40it/s]\n",
      "1it [00:00, 14.20it/s]\n",
      "10it [00:00, 60.90it/s]\n",
      "10it [00:00, 68.81it/s]\n",
      "10it [00:00, 56.29it/s]\n",
      "10it [00:00, 57.59it/s]\n",
      "10it [00:00, 58.97it/s]\n",
      "10it [00:00, 52.51it/s]\n",
      "10it [00:00, 58.54it/s]\n",
      "10it [00:00, 66.39it/s]\n",
      "10it [00:00, 51.80it/s]\n",
      "10it [00:00, 59.58it/s]\n"
     ]
    },
    {
     "name": "stdout",
     "output_type": "stream",
     "text": [
      "test_flare2 seed 7\n",
      "train: 1.0\n",
      "test: 0.62\n"
     ]
    },
    {
     "name": "stderr",
     "output_type": "stream",
     "text": [
      "1it [00:00, 14.56it/s]\n",
      "1it [00:00, 15.86it/s]\n",
      "1it [00:00, 15.67it/s]\n",
      "1it [00:00, 16.81it/s]\n",
      "1it [00:00, 17.63it/s]\n",
      "1it [00:00, 16.23it/s]\n",
      "1it [00:00, 16.09it/s]\n",
      "1it [00:00, 15.07it/s]\n",
      "1it [00:00, 16.74it/s]\n",
      "1it [00:00, 16.35it/s]\n",
      "10it [00:00, 59.67it/s]\n",
      "10it [00:00, 51.44it/s]\n",
      "10it [00:00, 56.78it/s]\n",
      "10it [00:00, 68.90it/s]\n",
      "10it [00:00, 57.82it/s]\n",
      "10it [00:00, 59.17it/s]\n",
      "10it [00:00, 65.23it/s]\n",
      "10it [00:00, 61.59it/s]\n",
      "10it [00:00, 69.01it/s]\n",
      "10it [00:00, 61.44it/s]\n"
     ]
    },
    {
     "name": "stdout",
     "output_type": "stream",
     "text": [
      "test_flare2 seed 8\n",
      "train: 1.0\n",
      "test: 0.71\n"
     ]
    },
    {
     "name": "stderr",
     "output_type": "stream",
     "text": [
      "1it [00:00, 14.65it/s]\n",
      "1it [00:00, 17.94it/s]\n",
      "1it [00:00, 16.96it/s]\n",
      "1it [00:00, 17.38it/s]\n",
      "1it [00:00, 11.89it/s]\n",
      "1it [00:00, 15.41it/s]\n",
      "1it [00:00, 14.63it/s]\n",
      "1it [00:00, 17.44it/s]\n",
      "1it [00:00, 17.80it/s]\n",
      "1it [00:00, 16.28it/s]\n",
      "10it [00:00, 58.99it/s]\n",
      "10it [00:00, 65.83it/s]\n",
      "10it [00:00, 58.62it/s]\n",
      "10it [00:00, 64.04it/s]\n",
      "10it [00:00, 58.30it/s]\n",
      "10it [00:00, 55.91it/s]\n",
      "10it [00:00, 53.11it/s]\n",
      "10it [00:00, 61.94it/s]\n",
      "10it [00:00, 69.05it/s]\n",
      "10it [00:00, 71.42it/s]\n"
     ]
    },
    {
     "name": "stdout",
     "output_type": "stream",
     "text": [
      "test_flare2 seed 9\n",
      "train: 1.0\n",
      "test: 0.51\n"
     ]
    },
    {
     "name": "stderr",
     "output_type": "stream",
     "text": [
      "1it [00:00, 17.59it/s]\n",
      "1it [00:00, 17.21it/s]\n",
      "1it [00:00, 16.98it/s]\n",
      "1it [00:00, 18.35it/s]\n",
      "1it [00:00, 14.50it/s]\n",
      "1it [00:00, 16.45it/s]\n",
      "1it [00:00, 16.51it/s]\n",
      "1it [00:00, 17.56it/s]\n",
      "1it [00:00, 19.49it/s]\n",
      "1it [00:00, 18.25it/s]\n",
      "10it [00:00, 71.27it/s]\n",
      "10it [00:00, 64.66it/s]\n",
      "10it [00:00, 60.82it/s]\n",
      "10it [00:00, 69.51it/s]\n",
      "10it [00:00, 66.21it/s]\n",
      "10it [00:00, 63.39it/s]\n",
      "10it [00:00, 67.46it/s]\n",
      "10it [00:00, 56.58it/s]\n",
      "10it [00:00, 66.21it/s]\n",
      "10it [00:00, 68.63it/s]"
     ]
    },
    {
     "name": "stdout",
     "output_type": "stream",
     "text": [
      "test_flare2 seed 10\n",
      "train: 1.0\n",
      "test: 0.61\n"
     ]
    },
    {
     "name": "stderr",
     "output_type": "stream",
     "text": [
      "\n"
     ]
    }
   ],
   "source": [
    "from sklearn.svm import LinearSVC\n",
    "from sklearn.neighbors import KNeighborsClassifier\n",
    "from sklearn.model_selection import cross_val_score\n",
    "import numpy as np\n",
    "from sklearn.model_selection import train_test_split\n",
    "from sklearn import datasets\n",
    "from sklearn import svm\n",
    "from sklearn.metrics import accuracy_score\n",
    "from sklearn.pipeline import make_pipeline\n",
    "from sklearn.preprocessing import StandardScaler\n",
    "from sklearn.svm import SVC\n",
    "from sklearn.linear_model import LogisticRegression\n",
    "## CARLA\n",
    "# test_dir = \"/home/bias-team/Mo_Projects/DiffuseVAE/ood_experiment/carla2_ood/tests\"\n",
    "test_dir = \"/home/bias-team/Mo_Projects/DiffuseVAE/ood_experiment/carla2_ood/tests2\"\n",
    "test_name_list = os.listdir(test_dir)\n",
    "train_score_dict = {}\n",
    "test_score_dict = {}\n",
    "for test_name in test_name_list:\n",
    "    train_score_list = []\n",
    "    test_score_list = []\n",
    "    test_path = os.path.join(test_dir, test_name)\n",
    "    for seed in range(1,11):\n",
    "        vae_ckpt_path =  f\"/home/bias-team/Mo_Projects/DiffuseVAE/logs/vae_carla_day{seed}/checkpoints/vae-carla_day-epoch=1499-train_loss=0.0000.ckpt\"\n",
    "        x_train, y_train = get_latent(\"/home/bias-team/Mo_Projects/DiffuseVAE/ood_experiment/carla2_ood/train\",\n",
    "                                    vae_ckpt_path)\n",
    "        x_test, y_test = get_latent(test_path,\n",
    "                                    vae_ckpt_path)\n",
    "\n",
    "        clf =  make_pipeline(StandardScaler(), KNeighborsClassifier(n_neighbors=1))\n",
    "        clf.fit(x_train, y_train)\n",
    "        y_pred_train = clf.predict(x_train)\n",
    "        y_pred_test = clf.predict(x_test)\n",
    "        train_score = accuracy_score(y_train, y_pred_train)\n",
    "        test_score = accuracy_score(y_test, y_pred_test)\n",
    "        train_score_list.append(train_score)\n",
    "        test_score_list.append(test_score)\n",
    "        print(f\"{test_name} seed {seed}\")\n",
    "        print(\"train:\", train_score)\n",
    "        print(\"test:\", test_score)\n",
    "    train_score_dict[test_name] = train_score_list\n",
    "    test_score_dict[test_name] = test_score_list\n"
   ]
  },
  {
   "cell_type": "code",
   "execution_count": 7,
   "metadata": {},
   "outputs": [
    {
     "name": "stdout",
     "output_type": "stream",
     "text": [
      "Flare2: 0.619 +- 0.09289241088485108\n"
     ]
    }
   ],
   "source": [
    "# # print(test_score_dict)\n",
    "# rain_acc, rain_sd = np.mean(test_score_dict['test_rain']), np.std(test_score_dict['test_rain'])\n",
    "# fog_acc, fog_sd = np.mean(test_score_dict['test_fog']), np.std(test_score_dict['test_fog'])\n",
    "# flare_acc, flare_sd = np.mean(test_score_dict['test_flare']), np.std(test_score_dict['test_flare'])\n",
    "# snow_acc, snow_sd = np.mean(test_score_dict['test_snow']), np.std(test_score_dict['test_snow'])\n",
    "# shadow_acc, shadow_sd = np.mean(test_score_dict['test_shadow']), np.std(test_score_dict['test_shadow'])\n",
    "\n",
    "# print(f\"Rain: {rain_acc} +- {rain_sd}\")\n",
    "# print(f\"Fog: {fog_acc} +- {fog_sd}\")\n",
    "# print(f\"Flare: {flare_acc} +- {flare_sd}\")\n",
    "# print(f\"Snow: {snow_acc} +- {snow_sd}\")\n",
    "# print(f\"Shadow: {shadow_acc} +- {shadow_sd}\")\n",
    "\n",
    "flare2_acc, flare2_sd = np.mean(test_score_dict['test_flare2']), np.std(test_score_dict['test_flare2'])\n",
    "print(f\"Flare2: {flare2_acc} +- {flare2_sd}\")"
   ]
  },
  {
   "cell_type": "code",
   "execution_count": null,
   "metadata": {},
   "outputs": [],
   "source": []
  }
 ],
 "metadata": {
  "kernelspec": {
   "display_name": "diffuse_vae",
   "language": "python",
   "name": "python3"
  },
  "language_info": {
   "codemirror_mode": {
    "name": "ipython",
    "version": 3
   },
   "file_extension": ".py",
   "mimetype": "text/x-python",
   "name": "python",
   "nbconvert_exporter": "python",
   "pygments_lexer": "ipython3",
   "version": "3.7.16"
  },
  "orig_nbformat": 4,
  "vscode": {
   "interpreter": {
    "hash": "e7c818a17350b470cab238bdc41d33392ab2a750eb89dbc1f10b416431e0b2e4"
   }
  }
 },
 "nbformat": 4,
 "nbformat_minor": 2
}

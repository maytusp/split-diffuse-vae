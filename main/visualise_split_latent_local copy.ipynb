{
 "cells": [
  {
   "cell_type": "code",
   "execution_count": 4,
   "metadata": {},
   "outputs": [],
   "source": [
    "import click\n",
    "import os\n",
    "import numpy as np\n",
    "import torch\n",
    "from torch.utils.data import DataLoader\n",
    "\n",
    "from tqdm import tqdm\n",
    "from util import configure_device, get_dataset\n",
    "from models.split_vae import VAE\n",
    "import matplotlib\n",
    "from sklearn.manifold import TSNE\n",
    "import matplotlib.pyplot as plt\n",
    "import seaborn as sns\n",
    "\n",
    "@click.group()\n",
    "def cli():\n",
    "    pass\n",
    "\n",
    "def extract(\n",
    "    orig_img_id = \"00084\",\n",
    "    root=None,\n",
    "    vae_chkpt_path=\"/home/bias-team/Mo_Projects/DiffuseVAE/logs/vae_carla_day/checkpoints/vae-carla_day-epoch=1499-train_loss=0.0000.ckpt\",\n",
    "    device=\"gpu:0\",\n",
    "    dataset_name=\"carla\",\n",
    "    image_size=128,\n",
    "    save_path=os.getcwd(),\n",
    "):\n",
    "    # dev, _ = configure_device(device)\n",
    "    dev = 'cuda'\n",
    "    root = os.path.join(root, orig_img_id)\n",
    "    # Dataset\n",
    "    dataset = get_dataset(dataset_name, root, image_size, norm=False, flip=False)\n",
    "\n",
    "    # Loader\n",
    "    loader = DataLoader(\n",
    "        dataset,\n",
    "        1,\n",
    "        num_workers=1,\n",
    "        pin_memory=True,\n",
    "        shuffle=False,\n",
    "        drop_last=False,\n",
    "    )\n",
    "\n",
    "    # Load VAE\n",
    "    vae = VAE.load_from_checkpoint(vae_chkpt_path, input_res=image_size).to(dev)\n",
    "    vae.eval()\n",
    "\n",
    "    z_list = []\n",
    "    for _, batch in tqdm(enumerate(loader)):\n",
    "        batch = batch.to(dev)\n",
    "        with torch.no_grad():\n",
    "\n",
    "            batch_aux, _ = vae.scramble(batch)\n",
    "            mu, logvar = vae.encode(batch)\n",
    "            mu_aux, logvar_aux = vae.encode_aux(batch_aux)\n",
    "\n",
    "            z_main = vae.reparameterize(mu, logvar)\n",
    "            z_aux = vae.reparameterize(mu_aux, logvar_aux)\n",
    "\n",
    "            # z_main = torch.cat((mu,mu_aux), dim=1)\n",
    "            z_main = mu_aux\n",
    "            # z_main = mu\n",
    "        # Not transferring to CPU leads to memory overflow in GPU!\n",
    "        z_list.append(z_main.cpu().detach().numpy())\n",
    "    z_arr = np.array(z_list)\n",
    "    image_labels = len(z_list)*[orig_img_id]\n",
    "    np.save(os.path.join(root, f\"{orig_img_id}_split.npy\"), z_arr)\n",
    "    return z_arr, image_labels\n",
    "\n",
    "def get_latent(data_path, vae_chkpt_path):\n",
    "    img_id_list = os.listdir(data_path)\n",
    "\n",
    "    for i, img_id in enumerate(img_id_list):\n",
    "        z, image_labels = extract(orig_img_id=img_id, root=data_path, vae_chkpt_path=vae_chkpt_path)\n",
    "        z = np.squeeze(z)\n",
    "        if len(z.shape) == 1:\n",
    "            z = np.expand_dims(z, axis=0)        \n",
    "        if i == 0:\n",
    "            z_total = z\n",
    "            image_labels_total = image_labels\n",
    "        else:\n",
    "            z_total = np.concatenate((z_total, z), axis=0)\n",
    "            image_labels_total += image_labels\n",
    "    labels, colors = get_class_map(image_labels_total, img_id_list)\n",
    "    return z_total, labels\n",
    "\n",
    "\n",
    "def get_class_map(image_labels_total, img_id_list):\n",
    "    # Create Mapping function from img_id to class 0,1,2,3,...\n",
    "    img_class_map = {}\n",
    "    colors = []\n",
    "    labels = []\n",
    "    for i, img_id in enumerate(img_id_list):\n",
    "        img_class_map[img_id] = i\n",
    "        colors.append(i)\n",
    "\n",
    "    for i in image_labels_total:\n",
    "        temp = img_class_map[i]\n",
    "        labels.append(temp)\n",
    "    labels = np.array(labels)\n",
    "    return labels, colors\n",
    "\n",
    "\n",
    "\n",
    "        "
   ]
  },
  {
   "cell_type": "code",
   "execution_count": 5,
   "metadata": {},
   "outputs": [
    {
     "name": "stderr",
     "output_type": "stream",
     "text": [
      "1it [00:00, 16.39it/s]\n",
      "1it [00:00, 17.95it/s]\n",
      "1it [00:00, 18.10it/s]\n",
      "1it [00:00, 12.54it/s]\n",
      "1it [00:00, 16.31it/s]\n",
      "1it [00:00, 16.85it/s]\n",
      "1it [00:00, 13.14it/s]\n",
      "1it [00:00, 13.07it/s]\n",
      "1it [00:00, 14.13it/s]\n",
      "1it [00:00, 17.41it/s]\n",
      "10it [00:00, 59.93it/s]\n",
      "10it [00:00, 70.83it/s]\n",
      "10it [00:00, 64.56it/s]\n",
      "10it [00:00, 64.83it/s]\n",
      "10it [00:00, 58.52it/s]\n",
      "10it [00:00, 61.79it/s]\n",
      "10it [00:00, 64.27it/s]\n",
      "10it [00:00, 67.45it/s]\n",
      "10it [00:00, 65.26it/s]\n",
      "10it [00:00, 65.72it/s]\n"
     ]
    },
    {
     "name": "stdout",
     "output_type": "stream",
     "text": [
      "test_flare2 seed 1\n",
      "train: 1.0\n",
      "test: 0.08\n"
     ]
    },
    {
     "name": "stderr",
     "output_type": "stream",
     "text": [
      "1it [00:00, 17.53it/s]\n",
      "1it [00:00, 16.29it/s]\n",
      "1it [00:00, 16.88it/s]\n",
      "1it [00:00, 17.35it/s]\n",
      "1it [00:00, 12.67it/s]\n",
      "1it [00:00, 18.54it/s]\n",
      "1it [00:00, 13.06it/s]\n",
      "1it [00:00, 16.58it/s]\n",
      "1it [00:00, 17.42it/s]\n",
      "1it [00:00, 16.43it/s]\n",
      "10it [00:00, 70.04it/s]\n",
      "10it [00:00, 59.50it/s]\n",
      "10it [00:00, 64.62it/s]\n",
      "10it [00:00, 62.24it/s]\n",
      "10it [00:00, 64.50it/s]\n",
      "10it [00:00, 58.87it/s]\n",
      "10it [00:00, 61.17it/s]\n",
      "10it [00:00, 59.02it/s]\n",
      "10it [00:00, 60.08it/s]\n",
      "10it [00:00, 62.31it/s]\n"
     ]
    },
    {
     "name": "stdout",
     "output_type": "stream",
     "text": [
      "test_flare2 seed 2\n",
      "train: 1.0\n",
      "test: 0.18\n"
     ]
    },
    {
     "name": "stderr",
     "output_type": "stream",
     "text": [
      "1it [00:00, 17.53it/s]\n",
      "1it [00:00, 14.72it/s]\n",
      "1it [00:00, 16.37it/s]\n",
      "1it [00:00, 15.28it/s]\n",
      "1it [00:00, 13.34it/s]\n",
      "1it [00:00, 15.34it/s]\n",
      "1it [00:00, 13.68it/s]\n",
      "1it [00:00, 13.31it/s]\n",
      "1it [00:00, 17.46it/s]\n",
      "1it [00:00, 17.45it/s]\n",
      "10it [00:00, 60.36it/s]\n",
      "10it [00:00, 61.11it/s]\n",
      "10it [00:00, 63.58it/s]\n",
      "10it [00:00, 65.09it/s]\n",
      "10it [00:00, 67.30it/s]\n",
      "10it [00:00, 66.33it/s]\n",
      "10it [00:00, 66.68it/s]\n",
      "10it [00:00, 70.16it/s]\n",
      "10it [00:00, 69.45it/s]\n",
      "10it [00:00, 61.08it/s]\n"
     ]
    },
    {
     "name": "stdout",
     "output_type": "stream",
     "text": [
      "test_flare2 seed 3\n",
      "train: 1.0\n",
      "test: 0.14\n"
     ]
    },
    {
     "name": "stderr",
     "output_type": "stream",
     "text": [
      "1it [00:00, 12.86it/s]\n",
      "1it [00:00, 16.21it/s]\n",
      "1it [00:00, 13.24it/s]\n",
      "1it [00:00, 14.66it/s]\n",
      "1it [00:00, 16.71it/s]\n",
      "1it [00:00, 15.73it/s]\n",
      "1it [00:00, 15.57it/s]\n",
      "1it [00:00, 15.32it/s]\n",
      "1it [00:00, 13.64it/s]\n",
      "1it [00:00, 12.30it/s]\n",
      "10it [00:00, 56.89it/s]\n",
      "10it [00:00, 55.14it/s]\n",
      "10it [00:00, 50.49it/s]\n",
      "10it [00:00, 59.06it/s]\n",
      "10it [00:00, 56.31it/s]\n",
      "10it [00:00, 56.94it/s]\n",
      "10it [00:00, 59.36it/s]\n",
      "10it [00:00, 61.47it/s]\n",
      "10it [00:00, 64.01it/s]\n",
      "10it [00:00, 54.82it/s]\n"
     ]
    },
    {
     "name": "stdout",
     "output_type": "stream",
     "text": [
      "test_flare2 seed 4\n",
      "train: 1.0\n",
      "test: 0.11\n"
     ]
    },
    {
     "name": "stderr",
     "output_type": "stream",
     "text": [
      "1it [00:00, 11.53it/s]\n",
      "1it [00:00, 15.46it/s]\n",
      "1it [00:00, 16.58it/s]\n",
      "1it [00:00, 16.08it/s]\n",
      "1it [00:00, 16.39it/s]\n",
      "1it [00:00, 14.89it/s]\n",
      "1it [00:00, 14.87it/s]\n",
      "1it [00:00, 15.06it/s]\n",
      "1it [00:00, 15.65it/s]\n",
      "1it [00:00, 12.98it/s]\n",
      "10it [00:00, 66.13it/s]\n",
      "10it [00:00, 63.34it/s]\n",
      "10it [00:00, 65.75it/s]\n",
      "10it [00:00, 62.85it/s]\n",
      "10it [00:00, 60.62it/s]\n",
      "10it [00:00, 56.53it/s]\n",
      "10it [00:00, 65.65it/s]\n",
      "10it [00:00, 60.25it/s]\n",
      "10it [00:00, 50.70it/s]\n",
      "10it [00:00, 50.90it/s]\n"
     ]
    },
    {
     "name": "stdout",
     "output_type": "stream",
     "text": [
      "test_flare2 seed 5\n",
      "train: 1.0\n",
      "test: 0.1\n"
     ]
    },
    {
     "name": "stderr",
     "output_type": "stream",
     "text": [
      "1it [00:00, 15.24it/s]\n",
      "1it [00:00, 14.46it/s]\n",
      "1it [00:00, 14.35it/s]\n",
      "1it [00:00, 15.86it/s]\n",
      "1it [00:00, 14.58it/s]\n",
      "1it [00:00, 14.71it/s]\n",
      "1it [00:00, 16.62it/s]\n",
      "1it [00:00, 14.82it/s]\n",
      "1it [00:00, 16.46it/s]\n",
      "1it [00:00, 14.30it/s]\n",
      "10it [00:00, 61.55it/s]\n",
      "10it [00:00, 54.42it/s]\n",
      "10it [00:00, 57.85it/s]\n",
      "10it [00:00, 57.88it/s]\n",
      "10it [00:00, 58.29it/s]\n",
      "10it [00:00, 58.06it/s]\n",
      "10it [00:00, 52.86it/s]\n",
      "10it [00:00, 56.00it/s]\n",
      "10it [00:00, 63.21it/s]\n",
      "10it [00:00, 54.07it/s]\n"
     ]
    },
    {
     "name": "stdout",
     "output_type": "stream",
     "text": [
      "test_flare2 seed 6\n",
      "train: 1.0\n",
      "test: 0.26\n"
     ]
    },
    {
     "name": "stderr",
     "output_type": "stream",
     "text": [
      "1it [00:00, 12.72it/s]\n",
      "1it [00:00, 15.34it/s]\n",
      "1it [00:00, 15.92it/s]\n",
      "1it [00:00, 13.85it/s]\n",
      "1it [00:00, 13.91it/s]\n",
      "1it [00:00, 13.55it/s]\n",
      "1it [00:00, 11.68it/s]\n",
      "1it [00:00, 14.18it/s]\n",
      "1it [00:00, 16.91it/s]\n",
      "1it [00:00, 14.05it/s]\n",
      "10it [00:00, 68.33it/s]\n",
      "10it [00:00, 63.33it/s]\n",
      "10it [00:00, 52.70it/s]\n",
      "10it [00:00, 64.02it/s]\n",
      "10it [00:00, 50.73it/s]\n",
      "10it [00:00, 60.21it/s]\n",
      "10it [00:00, 49.94it/s]\n",
      "10it [00:00, 55.33it/s]\n",
      "10it [00:00, 58.14it/s]\n",
      "10it [00:00, 57.85it/s]\n"
     ]
    },
    {
     "name": "stdout",
     "output_type": "stream",
     "text": [
      "test_flare2 seed 7\n",
      "train: 1.0\n",
      "test: 0.1\n"
     ]
    },
    {
     "name": "stderr",
     "output_type": "stream",
     "text": [
      "1it [00:00, 13.89it/s]\n",
      "1it [00:00, 15.34it/s]\n",
      "1it [00:00, 13.94it/s]\n",
      "1it [00:00, 15.31it/s]\n",
      "1it [00:00, 16.73it/s]\n",
      "1it [00:00, 10.74it/s]\n",
      "1it [00:00, 15.45it/s]\n",
      "1it [00:00, 12.47it/s]\n",
      "1it [00:00, 15.83it/s]\n",
      "1it [00:00, 13.77it/s]\n",
      "10it [00:00, 62.24it/s]\n",
      "10it [00:00, 57.84it/s]\n",
      "10it [00:00, 54.97it/s]\n",
      "10it [00:00, 65.38it/s]\n",
      "10it [00:00, 59.43it/s]\n",
      "10it [00:00, 54.72it/s]\n",
      "10it [00:00, 55.50it/s]\n",
      "10it [00:00, 54.94it/s]\n",
      "10it [00:00, 57.67it/s]\n",
      "10it [00:00, 53.32it/s]\n"
     ]
    },
    {
     "name": "stdout",
     "output_type": "stream",
     "text": [
      "test_flare2 seed 8\n",
      "train: 1.0\n",
      "test: 0.18\n"
     ]
    },
    {
     "name": "stderr",
     "output_type": "stream",
     "text": [
      "1it [00:00, 13.84it/s]\n",
      "1it [00:00, 15.86it/s]\n",
      "1it [00:00, 18.20it/s]\n",
      "1it [00:00, 16.59it/s]\n",
      "1it [00:00, 15.10it/s]\n",
      "1it [00:00, 18.95it/s]\n",
      "1it [00:00, 18.55it/s]\n",
      "1it [00:00, 18.44it/s]\n",
      "1it [00:00, 17.79it/s]\n",
      "1it [00:00, 15.74it/s]\n",
      "10it [00:00, 65.96it/s]\n",
      "10it [00:00, 65.22it/s]\n",
      "10it [00:00, 66.50it/s]\n",
      "10it [00:00, 70.78it/s]\n",
      "10it [00:00, 69.35it/s]\n",
      "10it [00:00, 57.54it/s]\n",
      "10it [00:00, 62.57it/s]\n",
      "10it [00:00, 71.48it/s]\n",
      "10it [00:00, 68.24it/s]\n",
      "10it [00:00, 64.01it/s]\n"
     ]
    },
    {
     "name": "stdout",
     "output_type": "stream",
     "text": [
      "test_flare2 seed 9\n",
      "train: 1.0\n",
      "test: 0.15\n"
     ]
    },
    {
     "name": "stderr",
     "output_type": "stream",
     "text": [
      "1it [00:00, 16.82it/s]\n",
      "1it [00:00, 16.79it/s]\n",
      "1it [00:00, 15.99it/s]\n",
      "1it [00:00, 16.38it/s]\n",
      "1it [00:00, 17.06it/s]\n",
      "1it [00:00, 18.03it/s]\n",
      "1it [00:00, 18.23it/s]\n",
      "1it [00:00, 16.98it/s]\n",
      "1it [00:00, 18.80it/s]\n",
      "1it [00:00, 16.26it/s]\n",
      "10it [00:00, 69.66it/s]\n",
      "10it [00:00, 68.22it/s]\n",
      "10it [00:00, 69.40it/s]\n",
      "10it [00:00, 71.72it/s]\n",
      "10it [00:00, 69.87it/s]\n",
      "10it [00:00, 69.95it/s]\n",
      "10it [00:00, 71.63it/s]\n",
      "10it [00:00, 68.93it/s]\n",
      "10it [00:00, 72.23it/s]\n",
      "10it [00:00, 73.95it/s]"
     ]
    },
    {
     "name": "stdout",
     "output_type": "stream",
     "text": [
      "test_flare2 seed 10\n",
      "train: 1.0\n",
      "test: 0.1\n"
     ]
    },
    {
     "name": "stderr",
     "output_type": "stream",
     "text": [
      "\n"
     ]
    }
   ],
   "source": [
    "from sklearn.svm import LinearSVC\n",
    "from sklearn.neighbors import KNeighborsClassifier\n",
    "from sklearn.model_selection import cross_val_score\n",
    "import numpy as np\n",
    "from sklearn.model_selection import train_test_split\n",
    "from sklearn import datasets\n",
    "from sklearn import svm\n",
    "from sklearn.metrics import accuracy_score\n",
    "from sklearn.pipeline import make_pipeline\n",
    "from sklearn.preprocessing import StandardScaler\n",
    "from sklearn.svm import SVC\n",
    "from sklearn.linear_model import LogisticRegression\n",
    "## CARLA\n",
    "# test_dir = \"/home/bias-team/Mo_Projects/DiffuseVAE/ood_experiment/carla2_ood/tests\"\n",
    "test_dir = \"/home/bias-team/Mo_Projects/DiffuseVAE/ood_experiment/carla2_ood/tests2\"\n",
    "test_name_list = os.listdir(test_dir)\n",
    "train_score_dict = {}\n",
    "test_score_dict = {}\n",
    "for test_name in test_name_list:\n",
    "    train_score_list = []\n",
    "    test_score_list = []\n",
    "    test_path = os.path.join(test_dir, test_name)\n",
    "    for seed in range(1,11):\n",
    "        vae_ckpt_path =  f\"/home/bias-team/Mo_Projects/DiffuseVAE/logs/vae_carla_day{seed}/checkpoints/vae-carla_day-epoch=1499-train_loss=0.0000.ckpt\"\n",
    "        x_train, y_train = get_latent(\"/home/bias-team/Mo_Projects/DiffuseVAE/ood_experiment/carla2_ood/train\",\n",
    "                                    vae_ckpt_path)\n",
    "        x_test, y_test = get_latent(test_path,\n",
    "                                    vae_ckpt_path)\n",
    "\n",
    "        clf =  make_pipeline(StandardScaler(), KNeighborsClassifier(n_neighbors=1))\n",
    "        clf.fit(x_train, y_train)\n",
    "        y_pred_train = clf.predict(x_train)\n",
    "        y_pred_test = clf.predict(x_test)\n",
    "        train_score = accuracy_score(y_train, y_pred_train)\n",
    "        test_score = accuracy_score(y_test, y_pred_test)\n",
    "        train_score_list.append(train_score)\n",
    "        test_score_list.append(test_score)\n",
    "        print(f\"{test_name} seed {seed}\")\n",
    "        print(\"train:\", train_score)\n",
    "        print(\"test:\", test_score)\n",
    "    train_score_dict[test_name] = train_score_list\n",
    "    test_score_dict[test_name] = test_score_list\n"
   ]
  },
  {
   "cell_type": "code",
   "execution_count": 7,
   "metadata": {},
   "outputs": [
    {
     "name": "stdout",
     "output_type": "stream",
     "text": [
      "Flare2: 0.13999999999999999 +- 0.05196152422706632\n"
     ]
    }
   ],
   "source": [
    "# # print(test_score_dict)\n",
    "# rain_acc, rain_sd = np.mean(test_score_dict['test_rain']), np.std(test_score_dict['test_rain'])\n",
    "# fog_acc, fog_sd = np.mean(test_score_dict['test_fog']), np.std(test_score_dict['test_fog'])\n",
    "# flare_acc, flare_sd = np.mean(test_score_dict['test_flare']), np.std(test_score_dict['test_flare'])\n",
    "# snow_acc, snow_sd = np.mean(test_score_dict['test_snow']), np.std(test_score_dict['test_snow'])\n",
    "# shadow_acc, shadow_sd = np.mean(test_score_dict['test_shadow']), np.std(test_score_dict['test_shadow'])\n",
    "\n",
    "# print(f\"Rain: {rain_acc} +- {rain_sd}\")\n",
    "# print(f\"Fog: {fog_acc} +- {fog_sd}\")\n",
    "# print(f\"Flare: {flare_acc} +- {flare_sd}\")\n",
    "# print(f\"Snow: {snow_acc} +- {snow_sd}\")\n",
    "# print(f\"Shadow: {shadow_acc} +- {shadow_sd}\")\n",
    "\n",
    "flare2_acc, flare2_sd = np.mean(test_score_dict['test_flare2']), np.std(test_score_dict['test_flare2'])\n",
    "print(f\"Flare2: {flare2_acc} +- {flare2_sd}\")"
   ]
  },
  {
   "cell_type": "code",
   "execution_count": null,
   "metadata": {},
   "outputs": [],
   "source": []
  }
 ],
 "metadata": {
  "kernelspec": {
   "display_name": "diffuse_vae",
   "language": "python",
   "name": "python3"
  },
  "language_info": {
   "codemirror_mode": {
    "name": "ipython",
    "version": 3
   },
   "file_extension": ".py",
   "mimetype": "text/x-python",
   "name": "python",
   "nbconvert_exporter": "python",
   "pygments_lexer": "ipython3",
   "version": "3.7.16"
  },
  "orig_nbformat": 4,
  "vscode": {
   "interpreter": {
    "hash": "e7c818a17350b470cab238bdc41d33392ab2a750eb89dbc1f10b416431e0b2e4"
   }
  }
 },
 "nbformat": 4,
 "nbformat_minor": 2
}

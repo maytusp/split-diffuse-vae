{
 "cells": [
  {
   "cell_type": "code",
   "execution_count": 4,
   "metadata": {},
   "outputs": [],
   "source": [
    "import click\n",
    "import os\n",
    "import numpy as np\n",
    "import torch\n",
    "from torch.utils.data import DataLoader\n",
    "\n",
    "from tqdm import tqdm\n",
    "from util import configure_device, get_dataset\n",
    "from models.split_vae import VAE\n",
    "import matplotlib\n",
    "from sklearn.manifold import TSNE\n",
    "import matplotlib.pyplot as plt\n",
    "import seaborn as sns\n",
    "\n",
    "@click.group()\n",
    "def cli():\n",
    "    pass\n",
    "\n",
    "def extract(\n",
    "    orig_img_id = \"00084\",\n",
    "    root=None,\n",
    "    vae_chkpt_path=\"/home/bias-team/Mo_Projects/DiffuseVAE/logs/vae_carla_day/checkpoints/vae-carla_day-epoch=1499-train_loss=0.0000.ckpt\",\n",
    "    device=\"gpu:0\",\n",
    "    dataset_name=\"carla\",\n",
    "    image_size=128,\n",
    "    save_path=os.getcwd(),\n",
    "):\n",
    "    # dev, _ = configure_device(device)\n",
    "    dev = 'cuda'\n",
    "    root = os.path.join(root, orig_img_id)\n",
    "    # Dataset\n",
    "    dataset = get_dataset(dataset_name, root, image_size, norm=False, flip=False)\n",
    "\n",
    "    # Loader\n",
    "    loader = DataLoader(\n",
    "        dataset,\n",
    "        1,\n",
    "        num_workers=1,\n",
    "        pin_memory=True,\n",
    "        shuffle=False,\n",
    "        drop_last=False,\n",
    "    )\n",
    "\n",
    "    # Load VAE\n",
    "    vae = VAE.load_from_checkpoint(vae_chkpt_path, input_res=image_size).to(dev)\n",
    "    vae.eval()\n",
    "\n",
    "    z_list = []\n",
    "    for _, batch in tqdm(enumerate(loader)):\n",
    "        batch = batch.to(dev)\n",
    "        with torch.no_grad():\n",
    "\n",
    "            batch_aux, _ = vae.scramble(batch)\n",
    "            mu, logvar = vae.encode(batch)\n",
    "            mu_aux, logvar_aux = vae.encode_aux(batch_aux)\n",
    "\n",
    "            z_main = vae.reparameterize(mu, logvar)\n",
    "            z_aux = vae.reparameterize(mu_aux, logvar_aux)\n",
    "\n",
    "            z_main = torch.cat((mu,mu_aux), dim=1)\n",
    "            # z_main = mu_aux\n",
    "            # z_main = mu\n",
    "        # Not transferring to CPU leads to memory overflow in GPU!\n",
    "        z_list.append(z_main.cpu().detach().numpy())\n",
    "    z_arr = np.array(z_list)\n",
    "    image_labels = len(z_list)*[orig_img_id]\n",
    "    np.save(os.path.join(root, f\"{orig_img_id}_split.npy\"), z_arr)\n",
    "    return z_arr, image_labels\n",
    "\n",
    "\n",
    "def get_latent(data_path, vae_chkpt_path):\n",
    "    img_id_list = os.listdir(data_path)\n",
    "\n",
    "    for i, img_id in enumerate(img_id_list):\n",
    "        z, image_labels = extract(orig_img_id=img_id, root=data_path, vae_chkpt_path=vae_chkpt_path)\n",
    "        z = np.squeeze(z)\n",
    "        if len(z.shape) == 1:\n",
    "            z = np.expand_dims(z, axis=0)        \n",
    "        if i == 0:\n",
    "            z_total = z\n",
    "            image_labels_total = image_labels\n",
    "        else:\n",
    "            z_total = np.concatenate((z_total, z), axis=0)\n",
    "            image_labels_total += image_labels\n",
    "    labels, colors = get_class_map(image_labels_total, img_id_list)\n",
    "    return z_total, labels\n",
    "\n",
    "def get_class_map(image_labels_total, img_id_list):\n",
    "    # Create Mapping function from img_id to class 0,1,2,3,...\n",
    "    img_class_map = {}\n",
    "    colors = []\n",
    "    labels = []\n",
    "    for i, img_id in enumerate(img_id_list):\n",
    "        img_class_map[img_id] = i\n",
    "        colors.append(i)\n",
    "\n",
    "    for i in image_labels_total:\n",
    "        temp = img_class_map[i]\n",
    "        labels.append(temp)\n",
    "    labels = np.array(labels)\n",
    "    return labels, colors\n",
    "\n",
    "\n",
    "\n",
    "        "
   ]
  },
  {
   "cell_type": "code",
   "execution_count": 5,
   "metadata": {},
   "outputs": [
    {
     "name": "stderr",
     "output_type": "stream",
     "text": [
      "1it [00:00, 15.99it/s]\n",
      "1it [00:00, 17.10it/s]\n",
      "1it [00:00, 17.55it/s]\n",
      "1it [00:00, 16.56it/s]\n",
      "1it [00:00, 16.85it/s]\n",
      "1it [00:00, 17.47it/s]\n",
      "1it [00:00, 16.98it/s]\n",
      "1it [00:00, 17.28it/s]\n",
      "1it [00:00, 19.06it/s]\n",
      "1it [00:00, 16.74it/s]\n",
      "10it [00:00, 68.84it/s]\n",
      "10it [00:00, 70.27it/s]\n",
      "10it [00:00, 71.02it/s]\n",
      "10it [00:00, 71.89it/s]\n",
      "10it [00:00, 71.48it/s]\n",
      "10it [00:00, 73.07it/s]\n",
      "10it [00:00, 71.86it/s]\n",
      "10it [00:00, 71.71it/s]\n",
      "10it [00:00, 71.17it/s]\n",
      "10it [00:00, 71.91it/s]\n"
     ]
    },
    {
     "name": "stdout",
     "output_type": "stream",
     "text": [
      "test_flare2 seed 1\n",
      "train: 1.0\n",
      "test: 0.63\n"
     ]
    },
    {
     "name": "stderr",
     "output_type": "stream",
     "text": [
      "1it [00:00, 15.31it/s]\n",
      "1it [00:00, 15.19it/s]\n",
      "1it [00:00, 17.15it/s]\n",
      "1it [00:00, 17.79it/s]\n",
      "1it [00:00, 17.88it/s]\n",
      "1it [00:00, 17.23it/s]\n",
      "1it [00:00, 17.34it/s]\n",
      "1it [00:00, 17.39it/s]\n",
      "1it [00:00, 17.28it/s]\n",
      "1it [00:00, 17.09it/s]\n",
      "10it [00:00, 69.44it/s]\n",
      "10it [00:00, 68.13it/s]\n",
      "10it [00:00, 67.40it/s]\n",
      "10it [00:00, 63.54it/s]\n",
      "10it [00:00, 64.24it/s]\n",
      "10it [00:00, 70.11it/s]\n",
      "10it [00:00, 60.42it/s]\n",
      "10it [00:00, 66.98it/s]\n",
      "10it [00:00, 67.60it/s]\n",
      "10it [00:00, 56.13it/s]\n"
     ]
    },
    {
     "name": "stdout",
     "output_type": "stream",
     "text": [
      "test_flare2 seed 2\n",
      "train: 1.0\n",
      "test: 0.65\n"
     ]
    },
    {
     "name": "stderr",
     "output_type": "stream",
     "text": [
      "1it [00:00, 16.51it/s]\n",
      "1it [00:00, 17.59it/s]\n",
      "1it [00:00, 15.00it/s]\n",
      "1it [00:00, 15.21it/s]\n",
      "1it [00:00, 17.27it/s]\n",
      "1it [00:00, 17.23it/s]\n",
      "1it [00:00, 18.41it/s]\n",
      "1it [00:00, 12.83it/s]\n",
      "1it [00:00, 12.61it/s]\n",
      "1it [00:00, 18.87it/s]\n",
      "10it [00:00, 69.37it/s]\n",
      "10it [00:00, 70.19it/s]\n",
      "10it [00:00, 62.82it/s]\n",
      "10it [00:00, 61.92it/s]\n",
      "10it [00:00, 65.50it/s]\n",
      "10it [00:00, 64.94it/s]\n",
      "10it [00:00, 63.02it/s]\n",
      "10it [00:00, 56.16it/s]\n",
      "10it [00:00, 58.51it/s]\n",
      "10it [00:00, 57.12it/s]\n"
     ]
    },
    {
     "name": "stdout",
     "output_type": "stream",
     "text": [
      "test_flare2 seed 3\n",
      "train: 1.0\n",
      "test: 0.52\n"
     ]
    },
    {
     "name": "stderr",
     "output_type": "stream",
     "text": [
      "1it [00:00, 18.08it/s]\n",
      "1it [00:00, 14.43it/s]\n",
      "1it [00:00, 16.69it/s]\n",
      "1it [00:00, 15.96it/s]\n",
      "1it [00:00, 16.68it/s]\n",
      "1it [00:00, 18.92it/s]\n",
      "1it [00:00, 17.21it/s]\n",
      "1it [00:00, 15.53it/s]\n",
      "1it [00:00, 16.24it/s]\n",
      "1it [00:00, 15.88it/s]\n",
      "10it [00:00, 66.68it/s]\n",
      "10it [00:00, 65.59it/s]\n",
      "10it [00:00, 67.08it/s]\n",
      "10it [00:00, 69.70it/s]\n",
      "10it [00:00, 59.75it/s]\n",
      "10it [00:00, 61.24it/s]\n",
      "10it [00:00, 67.11it/s]\n",
      "10it [00:00, 69.51it/s]\n",
      "10it [00:00, 54.45it/s]\n",
      "10it [00:00, 58.91it/s]\n"
     ]
    },
    {
     "name": "stdout",
     "output_type": "stream",
     "text": [
      "test_flare2 seed 4\n",
      "train: 1.0\n",
      "test: 0.45\n"
     ]
    },
    {
     "name": "stderr",
     "output_type": "stream",
     "text": [
      "1it [00:00, 14.90it/s]\n",
      "1it [00:00, 17.42it/s]\n",
      "1it [00:00, 16.52it/s]\n",
      "1it [00:00, 17.52it/s]\n",
      "1it [00:00, 16.80it/s]\n",
      "1it [00:00, 16.04it/s]\n",
      "1it [00:00, 17.32it/s]\n",
      "1it [00:00, 17.15it/s]\n",
      "1it [00:00, 16.51it/s]\n",
      "1it [00:00, 17.17it/s]\n",
      "10it [00:00, 67.00it/s]\n",
      "10it [00:00, 65.38it/s]\n",
      "10it [00:00, 68.68it/s]\n",
      "10it [00:00, 61.77it/s]\n",
      "10it [00:00, 63.65it/s]\n",
      "10it [00:00, 62.25it/s]\n",
      "10it [00:00, 61.37it/s]\n",
      "10it [00:00, 54.79it/s]\n",
      "10it [00:00, 60.55it/s]\n",
      "10it [00:00, 67.66it/s]\n"
     ]
    },
    {
     "name": "stdout",
     "output_type": "stream",
     "text": [
      "test_flare2 seed 5\n",
      "train: 1.0\n",
      "test: 0.54\n"
     ]
    },
    {
     "name": "stderr",
     "output_type": "stream",
     "text": [
      "1it [00:00, 15.49it/s]\n",
      "1it [00:00, 14.32it/s]\n",
      "1it [00:00, 14.05it/s]\n",
      "1it [00:00, 13.42it/s]\n",
      "1it [00:00, 15.81it/s]\n",
      "1it [00:00, 15.82it/s]\n",
      "1it [00:00, 16.02it/s]\n",
      "1it [00:00, 15.82it/s]\n",
      "1it [00:00, 14.17it/s]\n",
      "1it [00:00, 13.85it/s]\n",
      "10it [00:00, 63.92it/s]\n",
      "10it [00:00, 61.68it/s]\n",
      "10it [00:00, 56.64it/s]\n",
      "10it [00:00, 58.89it/s]\n",
      "10it [00:00, 56.01it/s]\n",
      "10it [00:00, 65.21it/s]\n",
      "10it [00:00, 52.35it/s]\n",
      "10it [00:00, 64.81it/s]\n",
      "10it [00:00, 55.26it/s]\n",
      "10it [00:00, 53.48it/s]\n"
     ]
    },
    {
     "name": "stdout",
     "output_type": "stream",
     "text": [
      "test_flare2 seed 6\n",
      "train: 1.0\n",
      "test: 0.59\n"
     ]
    },
    {
     "name": "stderr",
     "output_type": "stream",
     "text": [
      "1it [00:00, 15.19it/s]\n",
      "1it [00:00, 15.66it/s]\n",
      "1it [00:00, 11.91it/s]\n",
      "1it [00:00, 12.48it/s]\n",
      "1it [00:00, 14.18it/s]\n",
      "1it [00:00, 14.89it/s]\n",
      "1it [00:00, 14.20it/s]\n",
      "1it [00:00, 16.45it/s]\n",
      "1it [00:00, 12.27it/s]\n",
      "1it [00:00, 16.77it/s]\n",
      "10it [00:00, 59.41it/s]\n",
      "10it [00:00, 68.80it/s]\n",
      "10it [00:00, 58.28it/s]\n",
      "10it [00:00, 56.30it/s]\n",
      "10it [00:00, 55.90it/s]\n",
      "10it [00:00, 56.25it/s]\n",
      "10it [00:00, 62.36it/s]\n",
      "10it [00:00, 68.10it/s]\n",
      "10it [00:00, 63.31it/s]\n",
      "10it [00:00, 61.39it/s]\n"
     ]
    },
    {
     "name": "stdout",
     "output_type": "stream",
     "text": [
      "test_flare2 seed 7\n",
      "train: 1.0\n",
      "test: 0.54\n"
     ]
    },
    {
     "name": "stderr",
     "output_type": "stream",
     "text": [
      "1it [00:00, 13.31it/s]\n",
      "1it [00:00,  9.38it/s]\n",
      "1it [00:00, 16.92it/s]\n",
      "1it [00:00, 15.72it/s]\n",
      "1it [00:00, 12.44it/s]\n",
      "1it [00:00, 12.64it/s]\n",
      "1it [00:00, 16.62it/s]\n",
      "1it [00:00, 15.85it/s]\n",
      "1it [00:00, 14.58it/s]\n",
      "1it [00:00, 13.35it/s]\n",
      "10it [00:00, 61.69it/s]\n",
      "10it [00:00, 62.74it/s]\n",
      "10it [00:00, 64.62it/s]\n",
      "10it [00:00, 59.50it/s]\n",
      "10it [00:00, 59.32it/s]\n",
      "10it [00:00, 57.71it/s]\n",
      "10it [00:00, 60.43it/s]\n",
      "10it [00:00, 49.47it/s]\n",
      "10it [00:00, 51.06it/s]\n",
      "10it [00:00, 51.78it/s]\n"
     ]
    },
    {
     "name": "stdout",
     "output_type": "stream",
     "text": [
      "test_flare2 seed 8\n",
      "train: 1.0\n",
      "test: 0.59\n"
     ]
    },
    {
     "name": "stderr",
     "output_type": "stream",
     "text": [
      "1it [00:00, 15.75it/s]\n",
      "1it [00:00, 14.72it/s]\n",
      "1it [00:00, 16.03it/s]\n",
      "1it [00:00, 14.22it/s]\n",
      "1it [00:00, 16.68it/s]\n",
      "1it [00:00, 16.02it/s]\n",
      "1it [00:00, 12.81it/s]\n",
      "1it [00:00, 16.38it/s]\n",
      "1it [00:00, 15.96it/s]\n",
      "1it [00:00, 14.54it/s]\n",
      "10it [00:00, 55.97it/s]\n",
      "10it [00:00, 62.64it/s]\n",
      "10it [00:00, 53.35it/s]\n",
      "10it [00:00, 57.65it/s]\n",
      "10it [00:00, 53.16it/s]\n",
      "10it [00:00, 65.36it/s]\n",
      "10it [00:00, 56.75it/s]\n",
      "10it [00:00, 59.55it/s]\n",
      "10it [00:00, 59.24it/s]\n",
      "10it [00:00, 56.89it/s]\n"
     ]
    },
    {
     "name": "stdout",
     "output_type": "stream",
     "text": [
      "test_flare2 seed 9\n",
      "train: 1.0\n",
      "test: 0.36\n"
     ]
    },
    {
     "name": "stderr",
     "output_type": "stream",
     "text": [
      "1it [00:00, 13.01it/s]\n",
      "1it [00:00, 16.30it/s]\n",
      "1it [00:00, 14.27it/s]\n",
      "1it [00:00, 13.65it/s]\n",
      "1it [00:00, 15.78it/s]\n",
      "1it [00:00, 12.50it/s]\n",
      "1it [00:00, 14.66it/s]\n",
      "1it [00:00, 17.12it/s]\n",
      "1it [00:00, 14.02it/s]\n",
      "1it [00:00, 15.82it/s]\n",
      "10it [00:00, 58.20it/s]\n",
      "10it [00:00, 48.14it/s]\n",
      "10it [00:00, 58.78it/s]\n",
      "10it [00:00, 64.14it/s]\n",
      "10it [00:00, 52.07it/s]\n",
      "10it [00:00, 63.45it/s]\n",
      "10it [00:00, 54.69it/s]\n",
      "10it [00:00, 59.50it/s]\n",
      "10it [00:00, 55.09it/s]\n",
      "10it [00:00, 60.98it/s]"
     ]
    },
    {
     "name": "stdout",
     "output_type": "stream",
     "text": [
      "test_flare2 seed 10\n",
      "train: 1.0\n",
      "test: 0.54\n"
     ]
    },
    {
     "name": "stderr",
     "output_type": "stream",
     "text": [
      "\n"
     ]
    }
   ],
   "source": [
    "from sklearn.svm import LinearSVC\n",
    "from sklearn.neighbors import KNeighborsClassifier\n",
    "from sklearn.model_selection import cross_val_score\n",
    "import numpy as np\n",
    "from sklearn.model_selection import train_test_split\n",
    "from sklearn import datasets\n",
    "from sklearn import svm\n",
    "from sklearn.metrics import accuracy_score\n",
    "from sklearn.pipeline import make_pipeline\n",
    "from sklearn.preprocessing import StandardScaler\n",
    "from sklearn.svm import SVC\n",
    "from sklearn.linear_model import LogisticRegression\n",
    "## CARLA\n",
    "# test_dir = \"/home/bias-team/Mo_Projects/DiffuseVAE/ood_experiment/carla2_ood/tests\"\n",
    "test_dir = \"/home/bias-team/Mo_Projects/DiffuseVAE/ood_experiment/carla2_ood/tests2\"\n",
    "test_name_list = os.listdir(test_dir)\n",
    "train_score_dict = {}\n",
    "test_score_dict = {}\n",
    "for test_name in test_name_list:\n",
    "    train_score_list = []\n",
    "    test_score_list = []\n",
    "    test_path = os.path.join(test_dir, test_name)\n",
    "    for seed in range(1,11):\n",
    "        vae_ckpt_path =  f\"/home/bias-team/Mo_Projects/DiffuseVAE/logs/vae_carla_day{seed}/checkpoints/vae-carla_day-epoch=1499-train_loss=0.0000.ckpt\"\n",
    "        x_train, y_train = get_latent(\"/home/bias-team/Mo_Projects/DiffuseVAE/ood_experiment/carla2_ood/train\",\n",
    "                                    vae_ckpt_path)\n",
    "        x_test, y_test = get_latent(test_path,\n",
    "                                    vae_ckpt_path)\n",
    "\n",
    "        clf =  make_pipeline(StandardScaler(), KNeighborsClassifier(n_neighbors=1))\n",
    "        clf.fit(x_train, y_train)\n",
    "        y_pred_train = clf.predict(x_train)\n",
    "        y_pred_test = clf.predict(x_test)\n",
    "        train_score = accuracy_score(y_train, y_pred_train)\n",
    "        test_score = accuracy_score(y_test, y_pred_test)\n",
    "        train_score_list.append(train_score)\n",
    "        test_score_list.append(test_score)\n",
    "        print(f\"{test_name} seed {seed}\")\n",
    "        print(\"train:\", train_score)\n",
    "        print(\"test:\", test_score)\n",
    "    train_score_dict[test_name] = train_score_list\n",
    "    test_score_dict[test_name] = test_score_list\n"
   ]
  },
  {
   "cell_type": "code",
   "execution_count": 7,
   "metadata": {},
   "outputs": [
    {
     "name": "stdout",
     "output_type": "stream",
     "text": [
      "Flare2: 0.541 +- 0.08129575634681063\n"
     ]
    }
   ],
   "source": [
    "# # print(test_score_dict)\n",
    "# rain_acc, rain_sd = np.mean(test_score_dict['test_rain']), np.std(test_score_dict['test_rain'])\n",
    "# fog_acc, fog_sd = np.mean(test_score_dict['test_fog']), np.std(test_score_dict['test_fog'])\n",
    "# flare_acc, flare_sd = np.mean(test_score_dict['test_flare']), np.std(test_score_dict['test_flare'])\n",
    "# snow_acc, snow_sd = np.mean(test_score_dict['test_snow']), np.std(test_score_dict['test_snow'])\n",
    "# shadow_acc, shadow_sd = np.mean(test_score_dict['test_shadow']), np.std(test_score_dict['test_shadow'])\n",
    "\n",
    "# print(f\"Rain: {rain_acc} +- {rain_sd}\")\n",
    "# print(f\"Fog: {fog_acc} +- {fog_sd}\")\n",
    "# print(f\"Flare: {flare_acc} +- {flare_sd}\")\n",
    "# print(f\"Snow: {snow_acc} +- {snow_sd}\")\n",
    "# print(f\"Shadow: {shadow_acc} +- {shadow_sd}\")\n",
    "flare2_acc, flare2_sd = np.mean(test_score_dict['test_flare2']), np.std(test_score_dict['test_flare2'])\n",
    "print(f\"Flare2: {flare2_acc} +- {flare2_sd}\")"
   ]
  },
  {
   "cell_type": "code",
   "execution_count": null,
   "metadata": {},
   "outputs": [],
   "source": []
  }
 ],
 "metadata": {
  "kernelspec": {
   "display_name": "diffuse_vae",
   "language": "python",
   "name": "python3"
  },
  "language_info": {
   "codemirror_mode": {
    "name": "ipython",
    "version": 3
   },
   "file_extension": ".py",
   "mimetype": "text/x-python",
   "name": "python",
   "nbconvert_exporter": "python",
   "pygments_lexer": "ipython3",
   "version": "3.7.16"
  },
  "orig_nbformat": 4,
  "vscode": {
   "interpreter": {
    "hash": "e7c818a17350b470cab238bdc41d33392ab2a750eb89dbc1f10b416431e0b2e4"
   }
  }
 },
 "nbformat": 4,
 "nbformat_minor": 2
}

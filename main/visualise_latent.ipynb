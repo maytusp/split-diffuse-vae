{
 "cells": [
  {
   "cell_type": "code",
   "execution_count": 10,
   "metadata": {},
   "outputs": [],
   "source": [
    "import click\n",
    "import os\n",
    "import numpy as np\n",
    "import torch\n",
    "from torch.utils.data import DataLoader\n",
    "\n",
    "from tqdm import tqdm\n",
    "from util import configure_device, get_dataset\n",
    "from models.vae import VAE\n",
    "\n",
    "@click.group()\n",
    "def cli():\n",
    "    pass\n",
    "\n",
    "def extract(\n",
    "    orig_img_id,\n",
    "    root,\n",
    "    vae_chkpt_path = \"\",\n",
    "    device=\"gpu:0\",\n",
    "    dataset_name=\"carla\",\n",
    "    image_size=128,\n",
    "    save_path=os.getcwd(),\n",
    "):\n",
    "    # dev, _ = configure_device(device)\n",
    "    dev = 'cuda'\n",
    "    root = os.path.join(root, orig_img_id)\n",
    "    # Dataset\n",
    "    dataset = get_dataset(dataset_name, root, image_size, norm=False, flip=False)\n",
    "\n",
    "    # Loader\n",
    "    loader = DataLoader(\n",
    "        dataset,\n",
    "        1,\n",
    "        num_workers=1,\n",
    "        pin_memory=True,\n",
    "        shuffle=False,\n",
    "        drop_last=False,\n",
    "    )\n",
    "\n",
    "    # Load VAE\n",
    "    vae = VAE.load_from_checkpoint(vae_chkpt_path, input_res=image_size).to(dev)\n",
    "    vae.eval()\n",
    "\n",
    "    z_list = []\n",
    "    for _, batch in tqdm(enumerate(loader)):\n",
    "        batch = batch.to(dev)\n",
    "        with torch.no_grad():\n",
    "            mu, logvar = vae.encode(batch)\n",
    "\n",
    "            z_main = vae.reparameterize(mu, logvar)\n",
    "            z_main = mu\n",
    "        # Not transferring to CPU leads to memory overflow in GPU!\n",
    "        z_list.append(z_main.cpu().detach().numpy())\n",
    "    z_arr = np.array(z_list)\n",
    "    image_labels = len(z_list)*[orig_img_id]\n",
    "    np.save(os.path.join(root, f\"{orig_img_id}_split.npy\"), z_arr)\n",
    "    return z_arr, image_labels\n",
    "\n",
    "\n",
    "def get_latent(data_path, vae_chkpt_path):\n",
    "    img_id_list = os.listdir(data_path)\n",
    "\n",
    "    for i, img_id in enumerate(img_id_list):\n",
    "        z, image_labels = extract(orig_img_id=img_id, root=data_path, vae_chkpt_path=vae_chkpt_path)\n",
    "        z = np.squeeze(z)\n",
    "        if len(z.shape) == 1:\n",
    "            z = np.expand_dims(z, axis=0)        \n",
    "        if i == 0:\n",
    "            z_total = z\n",
    "            image_labels_total = image_labels\n",
    "        else:\n",
    "            z_total = np.concatenate((z_total, z), axis=0)\n",
    "            image_labels_total += image_labels\n",
    "    labels, colors = get_class_map(image_labels_total, img_id_list)\n",
    "    return z_total, labels\n",
    "\n",
    "def get_class_map(image_labels_total, img_id_list):\n",
    "    # Create Mapping function from img_id to class 0,1,2,3,...\n",
    "    img_class_map = {}\n",
    "    colors = []\n",
    "    labels = []\n",
    "    for i, img_id in enumerate(img_id_list):\n",
    "        img_class_map[img_id] = i\n",
    "        colors.append(i)\n",
    "\n",
    "    for i in image_labels_total:\n",
    "        temp = img_class_map[i]\n",
    "        labels.append(temp)\n",
    "    labels = np.array(labels)\n",
    "    return labels, colors\n",
    "\n",
    "\n",
    "def plot(z_total, labels):\n",
    "    sns.set_theme()\n",
    "    # sns.color_palette(\"magma\", as_cmap=True)\n",
    "    latent_tsne = TSNE(n_components=2).fit_transform(np.array(z_total))\n",
    "    # Assuming you have image paths or indices in `image_labels`\n",
    "    # that correspond to each data point in the reduced latent space\n",
    "    x = latent_tsne[:, 0]\n",
    "    y = latent_tsne[:, 1]\n",
    "    fig = plt.figure(figsize=(8,8))\n",
    "    cmap = plt.get_cmap('inferno', np.max(labels)+1)\n",
    "    plt.scatter(x, y, c=labels, cmap=cmap)\n",
    "\n",
    "    cb = plt.colorbar()\n",
    "    loc = np.arange(0,max(labels),max(labels)/float(len(colors)))\n",
    "    cb.set_ticks(loc)\n",
    "    cb.set_ticklabels(colors)\n",
    "        "
   ]
  },
  {
   "cell_type": "code",
   "execution_count": 11,
   "metadata": {},
   "outputs": [
    {
     "name": "stderr",
     "output_type": "stream",
     "text": [
      "1it [00:00, 15.29it/s]\n",
      "1it [00:00, 12.71it/s]\n",
      "1it [00:00, 17.67it/s]\n",
      "1it [00:00, 16.65it/s]\n",
      "1it [00:00, 15.50it/s]\n",
      "1it [00:00, 15.00it/s]\n",
      "1it [00:00, 15.48it/s]\n",
      "1it [00:00, 17.52it/s]\n",
      "1it [00:00, 12.79it/s]\n",
      "1it [00:00, 16.66it/s]\n",
      "10it [00:00, 78.98it/s]\n",
      "10it [00:00, 83.35it/s]\n",
      "10it [00:00, 85.33it/s]\n",
      "10it [00:00, 91.97it/s]\n",
      "10it [00:00, 75.32it/s]\n",
      "10it [00:00, 78.62it/s]\n",
      "10it [00:00, 85.70it/s]\n",
      "10it [00:00, 76.02it/s]\n",
      "10it [00:00, 92.24it/s]\n",
      "10it [00:00, 84.05it/s]\n"
     ]
    },
    {
     "name": "stdout",
     "output_type": "stream",
     "text": [
      "test_flare2 seed 1\n",
      "train: 1.0\n",
      "test: 0.63\n"
     ]
    },
    {
     "name": "stderr",
     "output_type": "stream",
     "text": [
      "1it [00:00, 17.98it/s]\n",
      "1it [00:00, 18.44it/s]\n",
      "1it [00:00, 16.67it/s]\n",
      "1it [00:00, 18.59it/s]\n",
      "1it [00:00, 17.09it/s]\n",
      "1it [00:00, 16.81it/s]\n",
      "1it [00:00, 16.33it/s]\n",
      "1it [00:00, 19.21it/s]\n",
      "1it [00:00, 17.09it/s]\n",
      "1it [00:00, 16.35it/s]\n",
      "10it [00:00, 75.98it/s]\n",
      "10it [00:00, 69.82it/s]\n",
      "10it [00:00, 91.11it/s]\n",
      "10it [00:00, 83.59it/s]\n",
      "10it [00:00, 88.39it/s]\n",
      "10it [00:00, 78.44it/s]\n",
      "10it [00:00, 75.05it/s]\n",
      "10it [00:00, 78.34it/s]\n",
      "10it [00:00, 93.68it/s]\n",
      "10it [00:00, 90.60it/s]\n"
     ]
    },
    {
     "name": "stdout",
     "output_type": "stream",
     "text": [
      "test_flare2 seed 2\n",
      "train: 1.0\n",
      "test: 0.56\n"
     ]
    },
    {
     "name": "stderr",
     "output_type": "stream",
     "text": [
      "1it [00:00, 16.15it/s]\n",
      "1it [00:00, 16.74it/s]\n",
      "1it [00:00, 16.28it/s]\n",
      "1it [00:00, 17.01it/s]\n",
      "1it [00:00, 16.58it/s]\n",
      "1it [00:00, 12.09it/s]\n",
      "1it [00:00, 16.23it/s]\n",
      "1it [00:00, 16.27it/s]\n",
      "1it [00:00, 18.60it/s]\n",
      "1it [00:00, 14.96it/s]\n",
      "10it [00:00, 88.43it/s]\n",
      "10it [00:00, 83.83it/s]\n",
      "10it [00:00, 76.09it/s]\n",
      "10it [00:00, 86.88it/s]\n",
      "10it [00:00, 88.56it/s]\n",
      "10it [00:00, 72.67it/s]\n",
      "10it [00:00, 85.43it/s]\n",
      "10it [00:00, 82.34it/s]\n",
      "10it [00:00, 93.96it/s]\n",
      "10it [00:00, 85.70it/s]\n"
     ]
    },
    {
     "name": "stdout",
     "output_type": "stream",
     "text": [
      "test_flare2 seed 3\n",
      "train: 1.0\n",
      "test: 0.67\n"
     ]
    },
    {
     "name": "stderr",
     "output_type": "stream",
     "text": [
      "1it [00:00, 17.68it/s]\n",
      "1it [00:00, 16.68it/s]\n",
      "1it [00:00, 13.70it/s]\n",
      "1it [00:00, 14.73it/s]\n",
      "1it [00:00, 16.33it/s]\n",
      "1it [00:00, 17.68it/s]\n",
      "1it [00:00, 17.24it/s]\n",
      "1it [00:00, 15.45it/s]\n",
      "1it [00:00, 16.86it/s]\n",
      "1it [00:00, 15.32it/s]\n",
      "10it [00:00, 71.15it/s]\n",
      "10it [00:00, 78.41it/s]\n",
      "10it [00:00, 80.95it/s]\n",
      "10it [00:00, 87.67it/s]\n",
      "10it [00:00, 77.38it/s]\n",
      "10it [00:00, 85.66it/s]\n",
      "10it [00:00, 86.70it/s]\n",
      "10it [00:00, 86.09it/s]\n",
      "10it [00:00, 77.77it/s]\n",
      "10it [00:00, 79.22it/s]\n"
     ]
    },
    {
     "name": "stdout",
     "output_type": "stream",
     "text": [
      "test_flare2 seed 4\n",
      "train: 1.0\n",
      "test: 0.7\n"
     ]
    },
    {
     "name": "stderr",
     "output_type": "stream",
     "text": [
      "1it [00:00, 14.33it/s]\n",
      "1it [00:00, 18.35it/s]\n",
      "1it [00:00, 17.57it/s]\n",
      "1it [00:00, 16.41it/s]\n",
      "1it [00:00, 16.33it/s]\n",
      "1it [00:00, 17.29it/s]\n",
      "1it [00:00, 17.82it/s]\n",
      "1it [00:00, 13.48it/s]\n",
      "1it [00:00, 13.61it/s]\n",
      "1it [00:00, 17.89it/s]\n",
      "10it [00:00, 73.96it/s]\n",
      "10it [00:00, 74.38it/s]\n",
      "10it [00:00, 70.72it/s]\n",
      "10it [00:00, 75.53it/s]\n",
      "10it [00:00, 91.04it/s]\n",
      "10it [00:00, 74.34it/s]\n",
      "10it [00:00, 76.34it/s]\n",
      "10it [00:00, 74.89it/s]\n",
      "10it [00:00, 84.09it/s]\n",
      "10it [00:00, 78.77it/s]\n"
     ]
    },
    {
     "name": "stdout",
     "output_type": "stream",
     "text": [
      "test_flare2 seed 5\n",
      "train: 1.0\n",
      "test: 0.72\n"
     ]
    },
    {
     "name": "stderr",
     "output_type": "stream",
     "text": [
      "1it [00:00, 14.27it/s]\n",
      "1it [00:00, 13.60it/s]\n",
      "1it [00:00, 16.75it/s]\n",
      "1it [00:00, 13.79it/s]\n",
      "1it [00:00, 16.15it/s]\n",
      "1it [00:00, 17.89it/s]\n",
      "1it [00:00, 15.06it/s]\n",
      "1it [00:00, 15.88it/s]\n",
      "1it [00:00, 15.51it/s]\n",
      "1it [00:00, 17.78it/s]\n",
      "10it [00:00, 92.24it/s]\n",
      "10it [00:00, 75.88it/s]\n",
      "10it [00:00, 79.05it/s]\n",
      "10it [00:00, 79.68it/s]\n",
      "10it [00:00, 69.53it/s]\n",
      "10it [00:00, 74.83it/s]\n",
      "10it [00:00, 78.88it/s]\n",
      "10it [00:00, 73.07it/s]\n",
      "10it [00:00, 80.04it/s]\n",
      "10it [00:00, 83.82it/s]\n"
     ]
    },
    {
     "name": "stdout",
     "output_type": "stream",
     "text": [
      "test_flare2 seed 6\n",
      "train: 1.0\n",
      "test: 0.66\n"
     ]
    },
    {
     "name": "stderr",
     "output_type": "stream",
     "text": [
      "1it [00:00, 17.21it/s]\n",
      "1it [00:00, 13.24it/s]\n",
      "1it [00:00, 16.22it/s]\n",
      "1it [00:00, 15.54it/s]\n",
      "1it [00:00, 16.92it/s]\n",
      "1it [00:00, 17.37it/s]\n",
      "1it [00:00, 15.60it/s]\n",
      "1it [00:00, 15.39it/s]\n",
      "1it [00:00, 16.52it/s]\n",
      "1it [00:00, 17.52it/s]\n",
      "10it [00:00, 74.73it/s]\n",
      "10it [00:00, 83.80it/s]\n",
      "10it [00:00, 90.05it/s]\n",
      "10it [00:00, 87.26it/s]\n",
      "10it [00:00, 88.63it/s]\n",
      "10it [00:00, 89.67it/s]\n",
      "10it [00:00, 89.83it/s]\n",
      "10it [00:00, 88.42it/s]\n",
      "10it [00:00, 89.69it/s]\n",
      "10it [00:00, 81.04it/s]\n"
     ]
    },
    {
     "name": "stdout",
     "output_type": "stream",
     "text": [
      "test_flare2 seed 7\n",
      "train: 1.0\n",
      "test: 0.58\n"
     ]
    },
    {
     "name": "stderr",
     "output_type": "stream",
     "text": [
      "1it [00:00, 16.84it/s]\n",
      "1it [00:00, 15.87it/s]\n",
      "1it [00:00, 17.13it/s]\n",
      "1it [00:00, 17.96it/s]\n",
      "1it [00:00, 16.43it/s]\n",
      "1it [00:00, 18.89it/s]\n",
      "1it [00:00, 15.85it/s]\n",
      "1it [00:00, 16.02it/s]\n",
      "1it [00:00, 15.05it/s]\n",
      "1it [00:00, 17.00it/s]\n",
      "10it [00:00, 75.10it/s]\n",
      "10it [00:00, 71.01it/s]\n",
      "10it [00:00, 81.19it/s]\n",
      "10it [00:00, 75.73it/s]\n",
      "10it [00:00, 78.80it/s]\n",
      "10it [00:00, 76.30it/s]\n",
      "10it [00:00, 66.10it/s]\n",
      "10it [00:00, 75.31it/s]\n",
      "10it [00:00, 89.29it/s]\n",
      "10it [00:00, 90.65it/s]\n"
     ]
    },
    {
     "name": "stdout",
     "output_type": "stream",
     "text": [
      "test_flare2 seed 8\n",
      "train: 1.0\n",
      "test: 0.78\n"
     ]
    },
    {
     "name": "stderr",
     "output_type": "stream",
     "text": [
      "1it [00:00, 16.85it/s]\n",
      "1it [00:00, 18.45it/s]\n",
      "1it [00:00, 18.10it/s]\n",
      "1it [00:00, 18.71it/s]\n",
      "1it [00:00, 14.02it/s]\n",
      "1it [00:00, 16.72it/s]\n",
      "1it [00:00, 18.96it/s]\n",
      "1it [00:00, 17.82it/s]\n",
      "1it [00:00, 16.40it/s]\n",
      "1it [00:00, 13.89it/s]\n",
      "10it [00:00, 92.60it/s]\n",
      "10it [00:00, 93.60it/s]\n",
      "10it [00:00, 96.15it/s]\n",
      "10it [00:00, 93.85it/s]\n",
      "10it [00:00, 88.51it/s]\n",
      "10it [00:00, 89.84it/s]\n",
      "10it [00:00, 97.72it/s]\n",
      "10it [00:00, 93.61it/s]\n",
      "10it [00:00, 92.37it/s]\n",
      "10it [00:00, 78.34it/s]\n"
     ]
    },
    {
     "name": "stdout",
     "output_type": "stream",
     "text": [
      "test_flare2 seed 9\n",
      "train: 1.0\n",
      "test: 0.62\n"
     ]
    },
    {
     "name": "stderr",
     "output_type": "stream",
     "text": [
      "1it [00:00, 13.78it/s]\n",
      "1it [00:00, 18.26it/s]\n",
      "1it [00:00, 17.34it/s]\n",
      "1it [00:00, 17.42it/s]\n",
      "1it [00:00, 16.96it/s]\n",
      "1it [00:00, 18.91it/s]\n",
      "1it [00:00, 18.42it/s]\n",
      "1it [00:00, 15.54it/s]\n",
      "1it [00:00, 18.49it/s]\n",
      "1it [00:00, 16.63it/s]\n",
      "10it [00:00, 79.92it/s]\n",
      "10it [00:00, 87.09it/s]\n",
      "10it [00:00, 89.52it/s]\n",
      "10it [00:00, 90.08it/s]\n",
      "10it [00:00, 96.72it/s]\n",
      "10it [00:00, 99.99it/s]\n",
      "10it [00:00, 99.44it/s]\n",
      "10it [00:00, 97.71it/s]\n",
      "10it [00:00, 93.65it/s]\n",
      "10it [00:00, 95.60it/s]"
     ]
    },
    {
     "name": "stdout",
     "output_type": "stream",
     "text": [
      "test_flare2 seed 10\n",
      "train: 1.0\n",
      "test: 0.83\n"
     ]
    },
    {
     "name": "stderr",
     "output_type": "stream",
     "text": [
      "\n"
     ]
    }
   ],
   "source": [
    "from sklearn.svm import LinearSVC\n",
    "from sklearn.neighbors import KNeighborsClassifier\n",
    "from sklearn.model_selection import cross_val_score\n",
    "import numpy as np\n",
    "from sklearn.model_selection import train_test_split\n",
    "from sklearn import datasets\n",
    "from sklearn import svm\n",
    "from sklearn.metrics import accuracy_score\n",
    "from sklearn.pipeline import make_pipeline\n",
    "from sklearn.preprocessing import StandardScaler\n",
    "from sklearn.svm import SVC\n",
    "from sklearn.linear_model import LogisticRegression\n",
    "## CARLA\n",
    "# test_dir = \"/home/bias-team/Mo_Projects/DiffuseVAE/ood_experiment/carla2_ood/tests\"\n",
    "test_dir = \"/home/bias-team/Mo_Projects/DiffuseVAE/ood_experiment/carla2_ood/tests2\"\n",
    "test_name_list = os.listdir(test_dir)\n",
    "train_score_dict = {}\n",
    "test_score_dict = {}\n",
    "for test_name in test_name_list:\n",
    "    train_score_list = []\n",
    "    test_score_list = []\n",
    "    test_path = os.path.join(test_dir, test_name)\n",
    "    for seed in range(1,11):\n",
    "        vae_ckpt_path =  f\"/home/bias-team/Mo_Projects/DiffuseVAE/logs/vanilla_vae_carla_day{seed}/checkpoints/vae-carla_day-epoch=1499-train_loss=0.0000.ckpt\"\n",
    "        x_train, y_train = get_latent(\"/home/bias-team/Mo_Projects/DiffuseVAE/ood_experiment/carla2_ood/train\",\n",
    "                                    vae_ckpt_path)\n",
    "        x_test, y_test = get_latent(test_path,\n",
    "                                    vae_ckpt_path)\n",
    "\n",
    "        clf =  make_pipeline(StandardScaler(), KNeighborsClassifier(n_neighbors=1))\n",
    "        clf.fit(x_train, y_train)\n",
    "        y_pred_train = clf.predict(x_train)\n",
    "        y_pred_test = clf.predict(x_test)\n",
    "        train_score = accuracy_score(y_train, y_pred_train)\n",
    "        test_score = accuracy_score(y_test, y_pred_test)\n",
    "        train_score_list.append(train_score)\n",
    "        test_score_list.append(test_score)\n",
    "        print(f\"{test_name} seed {seed}\")\n",
    "        print(\"train:\", train_score)\n",
    "        print(\"test:\", test_score)\n",
    "    train_score_dict[test_name] = train_score_list\n",
    "    test_score_dict[test_name] = test_score_list\n"
   ]
  },
  {
   "cell_type": "markdown",
   "metadata": {},
   "source": []
  },
  {
   "cell_type": "code",
   "execution_count": 12,
   "metadata": {},
   "outputs": [
    {
     "name": "stdout",
     "output_type": "stream",
     "text": [
      "{'test_flare2': [1.0, 1.0, 1.0, 1.0, 1.0, 1.0, 1.0, 1.0, 1.0, 1.0]}\n"
     ]
    }
   ],
   "source": [
    "print(train_score_dict)"
   ]
  },
  {
   "cell_type": "code",
   "execution_count": 14,
   "metadata": {},
   "outputs": [
    {
     "name": "stdout",
     "output_type": "stream",
     "text": [
      "Flare2: 0.675 +- 0.08077747210701755\n"
     ]
    }
   ],
   "source": [
    "# # print(test_score_dict)\n",
    "# rain_acc, rain_sd = np.mean(test_score_dict['test_rain']), np.std(test_score_dict['test_rain'])\n",
    "# fog_acc, fog_sd = np.mean(test_score_dict['test_fog']), np.std(test_score_dict['test_fog'])\n",
    "# flare_acc, flare_sd = np.mean(test_score_dict['test_flare']), np.std(test_score_dict['test_flare'])\n",
    "# snow_acc, snow_sd = np.mean(test_score_dict['test_snow']), np.std(test_score_dict['test_snow'])\n",
    "# shadow_acc, shadow_sd = np.mean(test_score_dict['test_shadow']), np.std(test_score_dict['test_shadow'])\n",
    "\n",
    "# print(f\"Rain: {rain_acc} +- {rain_sd}\")\n",
    "# print(f\"Fog: {fog_acc} +- {fog_sd}\")\n",
    "# print(f\"Flare: {flare_acc} +- {flare_sd}\")\n",
    "# print(f\"Snow: {snow_acc} +- {snow_sd}\")\n",
    "# print(f\"Shadow: {shadow_acc} +- {shadow_sd}\")\n",
    "\n",
    "flare2_acc, flare2_sd = np.mean(test_score_dict['test_flare2']), np.std(test_score_dict['test_flare2'])\n",
    "print(f\"Flare2: {flare2_acc} +- {flare2_sd}\")"
   ]
  },
  {
   "cell_type": "code",
   "execution_count": null,
   "metadata": {},
   "outputs": [],
   "source": []
  },
  {
   "cell_type": "code",
   "execution_count": null,
   "metadata": {},
   "outputs": [],
   "source": [
    "import seaborn as sns\n",
    "from sklearn.manifold import TSNE\n",
    "import matplotlib.pyplot as plt\n",
    "def plot(z_total, labels):\n",
    "    sns.set_theme()\n",
    "    # sns.color_palette(\"magma\", as_cmap=True)\n",
    "    latent_tsne = TSNE(n_components=2).fit_transform(np.array(z_total))\n",
    "    # Assuming you have image paths or indices in `image_labels`\n",
    "    # that correspond to each data point in the reduced latent space\n",
    "    x = latent_tsne[:, 0]\n",
    "    y = latent_tsne[:, 1]\n",
    "    fig = plt.figure(figsize=(8,8))\n",
    "    cmap = plt.get_cmap('inferno', np.max(labels)+1)\n",
    "    plt.scatter(x, y, c=labels, cmap=cmap)\n",
    "\n",
    "    cb = plt.colorbar()\n",
    "    loc = np.arange(0,max(labels),max(labels)/float(len(colors)))\n",
    "    cb.set_ticks(loc)\n",
    "    cb.set_ticklabels(colors)"
   ]
  },
  {
   "cell_type": "code",
   "execution_count": null,
   "metadata": {},
   "outputs": [
    {
     "name": "stderr",
     "output_type": "stream",
     "text": [
      "/home/bias-team/anaconda3/envs/diffuse_vae/lib/python3.7/site-packages/sklearn/manifold/_t_sne.py:783: FutureWarning: The default initialization in TSNE will change from 'random' to 'pca' in 1.2.\n",
      "  FutureWarning,\n",
      "/home/bias-team/anaconda3/envs/diffuse_vae/lib/python3.7/site-packages/sklearn/manifold/_t_sne.py:793: FutureWarning: The default learning rate in TSNE will change from 200.0 to 'auto' in 1.2.\n",
      "  FutureWarning,\n"
     ]
    },
    {
     "ename": "NameError",
     "evalue": "name 'colors' is not defined",
     "output_type": "error",
     "traceback": [
      "\u001b[0;31m---------------------------------------------------------------------------\u001b[0m",
      "\u001b[0;31mNameError\u001b[0m                                 Traceback (most recent call last)",
      "\u001b[0;32m/tmp/ipykernel_32684/1260834034.py\u001b[0m in \u001b[0;36m<module>\u001b[0;34m\u001b[0m\n\u001b[0;32m----> 1\u001b[0;31m \u001b[0mplot\u001b[0m\u001b[0;34m(\u001b[0m\u001b[0mx_test\u001b[0m\u001b[0;34m,\u001b[0m \u001b[0my_test\u001b[0m\u001b[0;34m)\u001b[0m\u001b[0;34m\u001b[0m\u001b[0;34m\u001b[0m\u001b[0m\n\u001b[0m",
      "\u001b[0;32m/tmp/ipykernel_32684/484068525.py\u001b[0m in \u001b[0;36mplot\u001b[0;34m(z_total, labels)\u001b[0m\n\u001b[1;32m     15\u001b[0m \u001b[0;34m\u001b[0m\u001b[0m\n\u001b[1;32m     16\u001b[0m     \u001b[0mcb\u001b[0m \u001b[0;34m=\u001b[0m \u001b[0mplt\u001b[0m\u001b[0;34m.\u001b[0m\u001b[0mcolorbar\u001b[0m\u001b[0;34m(\u001b[0m\u001b[0;34m)\u001b[0m\u001b[0;34m\u001b[0m\u001b[0;34m\u001b[0m\u001b[0m\n\u001b[0;32m---> 17\u001b[0;31m     \u001b[0mloc\u001b[0m \u001b[0;34m=\u001b[0m \u001b[0mnp\u001b[0m\u001b[0;34m.\u001b[0m\u001b[0marange\u001b[0m\u001b[0;34m(\u001b[0m\u001b[0;36m0\u001b[0m\u001b[0;34m,\u001b[0m\u001b[0mmax\u001b[0m\u001b[0;34m(\u001b[0m\u001b[0mlabels\u001b[0m\u001b[0;34m)\u001b[0m\u001b[0;34m,\u001b[0m\u001b[0mmax\u001b[0m\u001b[0;34m(\u001b[0m\u001b[0mlabels\u001b[0m\u001b[0;34m)\u001b[0m\u001b[0;34m/\u001b[0m\u001b[0mfloat\u001b[0m\u001b[0;34m(\u001b[0m\u001b[0mlen\u001b[0m\u001b[0;34m(\u001b[0m\u001b[0mcolors\u001b[0m\u001b[0;34m)\u001b[0m\u001b[0;34m)\u001b[0m\u001b[0;34m)\u001b[0m\u001b[0;34m\u001b[0m\u001b[0;34m\u001b[0m\u001b[0m\n\u001b[0m\u001b[1;32m     18\u001b[0m     \u001b[0mcb\u001b[0m\u001b[0;34m.\u001b[0m\u001b[0mset_ticks\u001b[0m\u001b[0;34m(\u001b[0m\u001b[0mloc\u001b[0m\u001b[0;34m)\u001b[0m\u001b[0;34m\u001b[0m\u001b[0;34m\u001b[0m\u001b[0m\n\u001b[1;32m     19\u001b[0m     \u001b[0mcb\u001b[0m\u001b[0;34m.\u001b[0m\u001b[0mset_ticklabels\u001b[0m\u001b[0;34m(\u001b[0m\u001b[0mcolors\u001b[0m\u001b[0;34m)\u001b[0m\u001b[0;34m\u001b[0m\u001b[0;34m\u001b[0m\u001b[0m\n",
      "\u001b[0;31mNameError\u001b[0m: name 'colors' is not defined"
     ]
    },
    {
     "data": {
      "image/png": "[encoded data removed]",
      "text/plain": [
       "<Figure size 800x800 with 2 Axes>"
      ]
     },
     "metadata": {},
     "output_type": "display_data"
    }
   ],
   "source": [
    "plot(x_test, y_test)"
   ]
  },
  {
   "cell_type": "code",
   "execution_count": null,
   "metadata": {},
   "outputs": [],
   "source": []
  }
 ],
 "metadata": {
  "kernelspec": {
   "display_name": "diffuse_vae",
   "language": "python",
   "name": "python3"
  },
  "language_info": {
   "codemirror_mode": {
    "name": "ipython",
    "version": 3
   },
   "file_extension": ".py",
   "mimetype": "text/x-python",
   "name": "python",
   "nbconvert_exporter": "python",
   "pygments_lexer": "ipython3",
   "version": "3.7.16"
  },
  "orig_nbformat": 4,
  "vscode": {
   "interpreter": {
    "hash": "e7c818a17350b470cab238bdc41d33392ab2a750eb89dbc1f10b416431e0b2e4"
   }
  }
 },
 "nbformat": 4,
 "nbformat_minor": 2
}

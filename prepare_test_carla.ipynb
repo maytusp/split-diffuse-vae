{
 "cells": [
  {
   "cell_type": "code",
   "execution_count": 6,
   "metadata": {},
   "outputs": [],
   "source": [
    "from PIL import ImageEnhance, Image\n",
    "import numpy as np\n",
    "import os\n",
    "day_val_folder = \"/home/bias-team/Mo_Projects/DiffuseVAE/carla/day_val\"\n",
    "night_val_folder = \"/home/bias-team/Mo_Projects/DiffuseVAE/carla/night_val\"\n",
    "save_folder = \"/home/bias-team/Mo_Projects/DiffuseVAE/ood_experiment/carla_ood\"\n",
    "class_list = os.listdir(\"/home/bias-team/Mo_Projects/DiffuseVAE/ood_experiment/carla_ood/source\")\n",
    "file_list = os.listdir(day_val_folder)\n",
    "\n",
    "\n",
    "\n",
    "file2class = {}\n",
    "for cls in class_list:\n",
    "    selected_file = os.listdir(os.path.join(save_folder, f\"source/{cls}\"))\n",
    "    for fn in selected_file:\n",
    "        file2class[fn] = cls\n",
    "\n",
    "for fn in file_list:\n",
    "    if fn in file2class:\n",
    "        original_day_file = os.path.join(day_val_folder, fn)\n",
    "        original_night_file = os.path.join(night_val_folder, fn)                \n",
    "        cls = file2class[fn]\n",
    "        img_save_dir_train = os.path.join(save_folder, f\"train/{cls}\")\n",
    "        img_save_dir_test = os.path.join(save_folder, f\"test/{cls}\")\n",
    "\n",
    "        if not(os.path.exists(img_save_dir_train)):\n",
    "            os.makedirs(img_save_dir_train)\n",
    "        if not(os.path.exists(img_save_dir_test)):\n",
    "            os.makedirs(img_save_dir_test)\n",
    "\n",
    "        day_image, night_image = np.array(Image.open(original_day_file)), np.array(Image.open(original_night_file))\n",
    "        day_image, night_image = Image.fromarray(day_image[:,:,:3]), Image.fromarray(night_image[:,:,:3])\n",
    "\n",
    "        day_image.save(os.path.join(img_save_dir_train, fn))\n",
    "        night_image.save(os.path.join(img_save_dir_test, fn))"
   ]
  }
 ],
 "metadata": {
  "kernelspec": {
   "display_name": "diffuse_vae",
   "language": "python",
   "name": "python3"
  },
  "language_info": {
   "codemirror_mode": {
    "name": "ipython",
    "version": 3
   },
   "file_extension": ".py",
   "mimetype": "text/x-python",
   "name": "python",
   "nbconvert_exporter": "python",
   "pygments_lexer": "ipython3",
   "version": "3.7.16"
  },
  "orig_nbformat": 4
 },
 "nbformat": 4,
 "nbformat_minor": 2
}
